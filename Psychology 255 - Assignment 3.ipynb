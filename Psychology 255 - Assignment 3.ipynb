{
 "cells": [
  {
   "cell_type": "markdown",
   "id": "daf59ac9",
   "metadata": {},
   "source": [
    "My mother really enjoys baking. Her grandmother emigrated to the US from Italy, so she grew up cooking and baking with her. For a few years, my mother was obsessed with baking biscotti, an italian cookie. Sometimes they'd taste pretty good, other times they would taste like 💩. One day, when we were visiting her mother/my grandmother, she decided to test her hand and bake some there. Well, they were so hard that when my brother - who had to be around 10 years old - took a bite out of one, one of his baby teeth fell out. It was so friggin hilarious that we couldn't help but laugh 😆"
   ]
  },
  {
   "cell_type": "code",
   "execution_count": 3,
   "id": "1e58b51f",
   "metadata": {},
   "outputs": [],
   "source": [
    "from IPython.display import HTML"
   ]
  },
  {
   "cell_type": "code",
   "execution_count": 5,
   "id": "cc1594d7",
   "metadata": {},
   "outputs": [
    {
     "data": {
      "text/html": [
       "\n",
       "<video width=\"320\" height=\"240\" controls>\n",
       "  <source src=\"https://github.com/majorsmarietta/Psych255-Assgn3/blob/main/Marikinz%20EPIC%20WIIIIN.mov?raw=true \" type=\"video/mp4\">\n",
       "</video>\n"
      ],
      "text/plain": [
       "<IPython.core.display.HTML object>"
      ]
     },
     "execution_count": 5,
     "metadata": {},
     "output_type": "execute_result"
    }
   ],
   "source": [
    "HTML(\"\"\"\n",
    "<video width=\"320\" height=\"240\" controls>\n",
    "  <source src=\"https://github.com/majorsmarietta/Psych255-Assgn3/blob/main/Marikinz%20EPIC%20WIIIIN.mov?raw=true \" type=\"video/mp4\">\n",
    "</video>\n",
    "\"\"\")\n"
   ]
  },
  {
   "cell_type": "code",
   "execution_count": null,
   "id": "83f3a69c",
   "metadata": {},
   "outputs": [],
   "source": []
  }
 ],
 "metadata": {
  "kernelspec": {
   "display_name": "Python 3 (ipykernel)",
   "language": "python",
   "name": "python3"
  },
  "language_info": {
   "codemirror_mode": {
    "name": "ipython",
    "version": 3
   },
   "file_extension": ".py",
   "mimetype": "text/x-python",
   "name": "python",
   "nbconvert_exporter": "python",
   "pygments_lexer": "ipython3",
   "version": "3.9.13"
  }
 },
 "nbformat": 4,
 "nbformat_minor": 5
}
